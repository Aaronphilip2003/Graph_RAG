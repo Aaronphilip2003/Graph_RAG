{
 "cells": [
  {
   "cell_type": "code",
   "execution_count": 36,
   "id": "23de3ea3-38e2-4531-a474-9bdc2e1e324c",
   "metadata": {},
   "outputs": [],
   "source": [
    "import chromadb\n",
    "from sentence_transformers import SentenceTransformer\n",
    "\n",
    "# Load the same model used to embed your chunks\n",
    "embedding_model = SentenceTransformer(\"all-MiniLM-L6-v2\")\n",
    "\n",
    "# Connect to ChromaDB\n",
    "chroma_client = chromadb.Client()\n",
    "chroma_collection = chroma_client.get_or_create_collection(name=\"pdf_chunks\")"
   ]
  },
  {
   "cell_type": "code",
   "execution_count": 37,
   "id": "1b75a94d-e7ea-42f2-8b9e-33de62afb377",
   "metadata": {},
   "outputs": [
    {
     "name": "stdout",
     "output_type": "stream",
     "text": [
      "{'ids': [], 'embeddings': None, 'documents': [], 'uris': None, 'included': ['metadatas', 'documents'], 'data': None, 'metadatas': []}\n"
     ]
    }
   ],
   "source": [
    "# Get all documents in the collection\n",
    "results = collection.get()\n",
    "\n",
    "print(results)"
   ]
  },
  {
   "cell_type": "code",
   "execution_count": 25,
   "id": "ffc2000a-1d09-464f-a393-36b0659d48fc",
   "metadata": {},
   "outputs": [],
   "source": [
    "def retrieve_relevant_chunks(query: str, top_k: int = 5):\n",
    "    # Step 1: Embed the query\n",
    "    query_embedding = embedding_model.encode(query).tolist()\n",
    "    \n",
    "    # Step 2: Query the vector DB\n",
    "    results = collection.query(\n",
    "        query_embeddings=[query_embedding],\n",
    "        n_results=top_k,\n",
    "        include=[\"documents\", \"distances\"]\n",
    "    )\n",
    "    \n",
    "    # Step 3: Display results\n",
    "    print(f\"\\n🔍 Query: {query}\")\n",
    "    print(f\"📚 Top {top_k} relevant chunks:\\n\")\n",
    "    for i, (doc, distance) in enumerate(zip(results[\"documents\"][0], results[\"distances\"][0])):\n",
    "        print(f\"Rank {i+1} (Distance: {round(distance, 4)}):\")\n",
    "        print(doc)\n",
    "        print(\"-\" * 50)"
   ]
  },
  {
   "cell_type": "code",
   "execution_count": 26,
   "id": "a030323e-726d-4df1-b771-0ad01cad4a29",
   "metadata": {},
   "outputs": [
    {
     "name": "stdout",
     "output_type": "stream",
     "text": [
      "\n",
      "🔍 Query: What is metformin?\n",
      "📚 Top 5 relevant chunks:\n",
      "\n"
     ]
    }
   ],
   "source": [
    "retrieve_relevant_chunks(\"What is metformin?\")"
   ]
  },
  {
   "cell_type": "code",
   "execution_count": null,
   "id": "c2c5928a-f465-4cbf-be84-d321fa5388f9",
   "metadata": {},
   "outputs": [],
   "source": []
  }
 ],
 "metadata": {
  "kernelspec": {
   "display_name": "Python 3 (ipykernel)",
   "language": "python",
   "name": "python3"
  },
  "language_info": {
   "codemirror_mode": {
    "name": "ipython",
    "version": 3
   },
   "file_extension": ".py",
   "mimetype": "text/x-python",
   "name": "python",
   "nbconvert_exporter": "python",
   "pygments_lexer": "ipython3",
   "version": "3.9.6"
  }
 },
 "nbformat": 4,
 "nbformat_minor": 5
}
