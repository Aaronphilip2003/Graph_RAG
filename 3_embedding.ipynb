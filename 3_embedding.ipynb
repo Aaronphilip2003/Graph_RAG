{
 "cells": [
  {
   "cell_type": "code",
   "execution_count": 13,
   "id": "501d09d0-d08a-4137-a464-41ed339f41f4",
   "metadata": {},
   "outputs": [
    {
     "name": "stdout",
     "output_type": "stream",
     "text": [
      "✅ Successfully connected to MongoDB.\n"
     ]
    }
   ],
   "source": [
    "%run ./utils.ipynb"
   ]
  },
  {
   "cell_type": "code",
   "execution_count": 14,
   "id": "7ce7929b-e791-4a9f-91b6-10e9e948a7f0",
   "metadata": {},
   "outputs": [],
   "source": [
    "client = get_mongo_client(uri)"
   ]
  },
  {
   "cell_type": "code",
   "execution_count": 15,
   "id": "1e5337b1-430d-4e13-a17e-e8c8cc12eb94",
   "metadata": {},
   "outputs": [],
   "source": [
    "collection = get_collection(client,\"pdf_rag_db\",\"chunks\")"
   ]
  },
  {
   "cell_type": "code",
   "execution_count": 16,
   "id": "bf01e8d3-1077-4a64-ad93-7ed61a723bb7",
   "metadata": {},
   "outputs": [
    {
     "name": "stdout",
     "output_type": "stream",
     "text": [
      "📄 PDF: metformin2.pdf, Page: 2, Chunk: 0\n",
      "📝 Text: 2\n",
      "PRODUCT  MONOGRAPH \n",
      " \n",
      " \n",
      " \n",
      "TEVA-METFORMIN \n",
      "(metformin hydrochloride) \n",
      " \n",
      " \n",
      "500 mg and 850 mg Tablets \n",
      " \n",
      " \n",
      " \n",
      "THERAPEUTIC  CLASSIFICATION \n",
      " \n",
      "Oral Antihyperglycemic Agent \n",
      " \n",
      " \n",
      "ACTIONS  AND  CLINICAL  PHA...\n",
      "--------------------------------------------------------------------------------\n",
      "📄 PDF: metformin2.pdf, Page: 2, Chunk: 1\n",
      "📝 Text: when there is insulin secretion. Metformin, at therapeutic doses, does not cause hypoglycemia \n",
      "when used alone in man or in the non-diabetic animal, except when using a near lethal dose.  \n",
      "Metformin h...\n",
      "--------------------------------------------------------------------------------\n",
      "📄 PDF: metformin2.pdf, Page: 3, Chunk: 0\n",
      "📝 Text: 3\n",
      "in urine at high renal clearance rate of about 450 mL/min. The initial elimination of metformin is \n",
      "rapid with a half-life varying between 1.7 and 3 hours. The terminal elimination phase \n",
      "accounting...\n",
      "--------------------------------------------------------------------------------\n",
      "📄 PDF: metformin2.pdf, Page: 3, Chunk: 1\n",
      "📝 Text: and the salivary glands. The plasma concentration at steady-state ranges about 1 to 2 mcg/mL. \n",
      "Certain drugs may potentiate the effects of metformin (see PRECAUTIONS). \n",
      " \n",
      "A comparative, two-way, singl...\n",
      "--------------------------------------------------------------------------------\n",
      "📄 PDF: metformin2.pdf, Page: 3, Chunk: 3\n",
      "📝 Text: (28) \n",
      " \n",
      "93.6 \n",
      "Tmax* (hr) \n",
      "4.00 \n",
      " \n",
      "(0.89) \n",
      "4.38 \n",
      " \n",
      "(1.02) \n",
      "--- \n",
      "T½* (hr) \n",
      "3.60 \n",
      " \n",
      "(0.82) \n",
      " 3.41 \n",
      " \n",
      "(0.67) \n",
      "--- \n",
      "* For the Tmax and T½ parameters these are the arithmetic means (standard deviation). \n",
      "**...\n",
      "--------------------------------------------------------------------------------\n"
     ]
    }
   ],
   "source": [
    "# Preview a few documents from the MongoDB collection\n",
    "for doc in collection.find().limit(5):\n",
    "    print(f\"📄 PDF: {doc.get('pdf_name')}, Page: {doc.get('page_number')}, Chunk: {doc.get('chunk_index')}\")\n",
    "    print(f\"📝 Text: {doc.get('chunk_text')[:200]}...\\n{'-'*80}\")"
   ]
  },
  {
   "cell_type": "code",
   "execution_count": 17,
   "id": "82470117-e444-4785-a761-f2adb8b5829b",
   "metadata": {},
   "outputs": [],
   "source": [
    "import chromadb\n",
    "from chromadb.utils import embedding_functions"
   ]
  },
  {
   "cell_type": "code",
   "execution_count": 18,
   "id": "2df6fc6a-5e3e-4da0-955a-1f2aa4f7ceda",
   "metadata": {},
   "outputs": [],
   "source": [
    "import chromadb\n",
    "from chromadb.config import Settings\n",
    "\n",
    "def store_embedded_chunks_to_chroma(collection):\n",
    "    \"\"\"\n",
    "    Reads chunks from MongoDB collection, embeds them, and stores them in ChromaDB.\n",
    "    \"\"\"\n",
    "\n",
    "    # 1. Init Chroma client (serverless)\n",
    "    chroma_client = chromadb.Client()\n",
    "\n",
    "    # 2. Create or get Chroma collection\n",
    "    chroma_collection = chroma_client.get_or_create_collection(name=\"pdf_chunks\")\n",
    "\n",
    "    # 3. Prepare data for Chroma\n",
    "    ids = []\n",
    "    documents = []\n",
    "    metadatas = []\n",
    "\n",
    "    for doc in collection.find():\n",
    "        # Unique ID per chunk\n",
    "        chunk_id = f\"{doc['pdf_name']}_{doc['page_number']}_{doc['chunk_index']}\"\n",
    "\n",
    "        # Add data\n",
    "        ids.append(chunk_id)\n",
    "        documents.append(doc[\"chunk_text\"])\n",
    "        metadatas.append({\n",
    "            \"pdf_name\": doc[\"pdf_name\"],\n",
    "            \"page_number\": doc[\"page_number\"],\n",
    "            \"chunk_index\": doc[\"chunk_index\"]\n",
    "        })\n",
    "\n",
    "    # 4. Add to ChromaDB\n",
    "    chroma_collection.add(\n",
    "        ids=ids,\n",
    "        documents=documents,\n",
    "        metadatas=metadatas\n",
    "    )\n",
    "\n",
    "    print(f\"✅ Stored {len(documents)} chunks in ChromaDB.\")"
   ]
  },
  {
   "cell_type": "code",
   "execution_count": 19,
   "id": "913ab123-e376-436d-aba5-2c40f52bb3fc",
   "metadata": {},
   "outputs": [],
   "source": [
    "# store_embedded_chunks_to_chroma(collection)"
   ]
  },
  {
   "cell_type": "code",
   "execution_count": 20,
   "id": "4d515a27-693b-4d40-a161-42ac4c866e84",
   "metadata": {},
   "outputs": [],
   "source": [
    "# view_all_chunks(\"pdf_chunks\")"
   ]
  }
 ],
 "metadata": {
  "kernelspec": {
   "display_name": "Python 3 (ipykernel)",
   "language": "python",
   "name": "python3"
  },
  "language_info": {
   "codemirror_mode": {
    "name": "ipython",
    "version": 3
   },
   "file_extension": ".py",
   "mimetype": "text/x-python",
   "name": "python",
   "nbconvert_exporter": "python",
   "pygments_lexer": "ipython3",
   "version": "3.9.6"
  }
 },
 "nbformat": 4,
 "nbformat_minor": 5
}
