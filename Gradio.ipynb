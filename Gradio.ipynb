{
 "cells": [
  {
   "cell_type": "code",
   "execution_count": 1,
   "id": "b89e7537-8509-4e6c-bb5f-e443579e666e",
   "metadata": {},
   "outputs": [
    {
     "name": "stdout",
     "output_type": "stream",
     "text": [
      "\u001b[33mWARNING: Package(s) not found: gradio\u001b[0m\u001b[33m\n",
      "\u001b[0m"
     ]
    }
   ],
   "source": [
    "!pip show gradio"
   ]
  },
  {
   "cell_type": "code",
   "execution_count": 2,
   "id": "aba51e71-638c-4e77-ac20-937f3b633fb6",
   "metadata": {},
   "outputs": [
    {
     "name": "stdout",
     "output_type": "stream",
     "text": [
      "Collecting gradio==3.39.0\n",
      "  Downloading gradio-3.39.0-py3-none-any.whl.metadata (17 kB)\n",
      "Requirement already satisfied: aiofiles<24.0,>=22.0 in /Users/aaron/Documents/code/Deep-Learning-AI/deeplearningai/lib/python3.9/site-packages (from gradio==3.39.0) (23.2.1)\n",
      "Requirement already satisfied: aiohttp~=3.0 in /Users/aaron/Documents/code/Deep-Learning-AI/deeplearningai/lib/python3.9/site-packages (from gradio==3.39.0) (3.12.12)\n",
      "Requirement already satisfied: altair<6.0,>=4.2.0 in /Users/aaron/Documents/code/Deep-Learning-AI/deeplearningai/lib/python3.9/site-packages (from gradio==3.39.0) (5.5.0)\n",
      "Requirement already satisfied: fastapi in /Users/aaron/Documents/code/Deep-Learning-AI/deeplearningai/lib/python3.9/site-packages (from gradio==3.39.0) (0.116.1)\n",
      "Requirement already satisfied: ffmpy in /Users/aaron/Documents/code/Deep-Learning-AI/deeplearningai/lib/python3.9/site-packages (from gradio==3.39.0) (0.6.0)\n",
      "Collecting gradio-client>=0.3.0 (from gradio==3.39.0)\n",
      "  Using cached gradio_client-1.3.0-py3-none-any.whl.metadata (7.1 kB)\n",
      "Requirement already satisfied: httpx in /Users/aaron/Documents/code/Deep-Learning-AI/deeplearningai/lib/python3.9/site-packages (from gradio==3.39.0) (0.28.1)\n",
      "Requirement already satisfied: huggingface-hub>=0.14.0 in /Users/aaron/Documents/code/Deep-Learning-AI/deeplearningai/lib/python3.9/site-packages (from gradio==3.39.0) (0.33.0)\n",
      "Requirement already satisfied: jinja2<4.0 in /Users/aaron/Documents/code/Deep-Learning-AI/deeplearningai/lib/python3.9/site-packages (from gradio==3.39.0) (3.1.6)\n",
      "Requirement already satisfied: markdown-it-py>=2.0.0 in /Users/aaron/Documents/code/Deep-Learning-AI/deeplearningai/lib/python3.9/site-packages (from markdown-it-py[linkify]>=2.0.0->gradio==3.39.0) (3.0.0)\n",
      "Requirement already satisfied: markupsafe~=2.0 in /Users/aaron/Documents/code/Deep-Learning-AI/deeplearningai/lib/python3.9/site-packages (from gradio==3.39.0) (2.1.5)\n",
      "Requirement already satisfied: matplotlib~=3.0 in /Users/aaron/Documents/code/Deep-Learning-AI/deeplearningai/lib/python3.9/site-packages (from gradio==3.39.0) (3.9.4)\n",
      "Collecting mdit-py-plugins<=0.3.3 (from gradio==3.39.0)\n",
      "  Downloading mdit_py_plugins-0.3.3-py3-none-any.whl.metadata (2.8 kB)\n",
      "Requirement already satisfied: numpy~=1.0 in /Users/aaron/Documents/code/Deep-Learning-AI/deeplearningai/lib/python3.9/site-packages (from gradio==3.39.0) (1.26.4)\n",
      "Requirement already satisfied: orjson~=3.0 in /Users/aaron/Documents/code/Deep-Learning-AI/deeplearningai/lib/python3.9/site-packages (from gradio==3.39.0) (3.10.18)\n",
      "Requirement already satisfied: packaging in /Users/aaron/Documents/code/Deep-Learning-AI/deeplearningai/lib/python3.9/site-packages (from gradio==3.39.0) (24.2)\n",
      "Requirement already satisfied: pandas<3.0,>=1.0 in /Users/aaron/Documents/code/Deep-Learning-AI/deeplearningai/lib/python3.9/site-packages (from gradio==3.39.0) (2.3.1)\n",
      "Requirement already satisfied: pillow<11.0,>=8.0 in /Users/aaron/Documents/code/Deep-Learning-AI/deeplearningai/lib/python3.9/site-packages (from gradio==3.39.0) (10.4.0)\n",
      "Requirement already satisfied: pydantic!=1.8,!=1.8.1,!=2.0.0,!=2.0.1,<3.0.0,>=1.7.4 in /Users/aaron/Documents/code/Deep-Learning-AI/deeplearningai/lib/python3.9/site-packages (from gradio==3.39.0) (2.11.5)\n",
      "Requirement already satisfied: pydub in /Users/aaron/Documents/code/Deep-Learning-AI/deeplearningai/lib/python3.9/site-packages (from gradio==3.39.0) (0.25.1)\n",
      "Requirement already satisfied: python-multipart in /Users/aaron/Documents/code/Deep-Learning-AI/deeplearningai/lib/python3.9/site-packages (from gradio==3.39.0) (0.0.20)\n",
      "Requirement already satisfied: pyyaml<7.0,>=5.0 in /Users/aaron/Documents/code/Deep-Learning-AI/deeplearningai/lib/python3.9/site-packages (from gradio==3.39.0) (6.0.2)\n",
      "Requirement already satisfied: requests~=2.0 in /Users/aaron/Documents/code/Deep-Learning-AI/deeplearningai/lib/python3.9/site-packages (from gradio==3.39.0) (2.32.3)\n",
      "Requirement already satisfied: semantic-version~=2.0 in /Users/aaron/Documents/code/Deep-Learning-AI/deeplearningai/lib/python3.9/site-packages (from gradio==3.39.0) (2.10.0)\n",
      "Requirement already satisfied: typing-extensions~=4.0 in /Users/aaron/Documents/code/Deep-Learning-AI/deeplearningai/lib/python3.9/site-packages (from gradio==3.39.0) (4.14.0)\n",
      "Requirement already satisfied: uvicorn>=0.14.0 in /Users/aaron/Documents/code/Deep-Learning-AI/deeplearningai/lib/python3.9/site-packages (from gradio==3.39.0) (0.35.0)\n",
      "Requirement already satisfied: websockets<12.0,>=10.0 in /Users/aaron/Documents/code/Deep-Learning-AI/deeplearningai/lib/python3.9/site-packages (from gradio==3.39.0) (11.0.3)\n",
      "Requirement already satisfied: aiohappyeyeballs>=2.5.0 in /Users/aaron/Documents/code/Deep-Learning-AI/deeplearningai/lib/python3.9/site-packages (from aiohttp~=3.0->gradio==3.39.0) (2.6.1)\n",
      "Requirement already satisfied: aiosignal>=1.1.2 in /Users/aaron/Documents/code/Deep-Learning-AI/deeplearningai/lib/python3.9/site-packages (from aiohttp~=3.0->gradio==3.39.0) (1.3.2)\n",
      "Requirement already satisfied: async-timeout<6.0,>=4.0 in /Users/aaron/Documents/code/Deep-Learning-AI/deeplearningai/lib/python3.9/site-packages (from aiohttp~=3.0->gradio==3.39.0) (4.0.3)\n",
      "Requirement already satisfied: attrs>=17.3.0 in /Users/aaron/Documents/code/Deep-Learning-AI/deeplearningai/lib/python3.9/site-packages (from aiohttp~=3.0->gradio==3.39.0) (25.3.0)\n",
      "Requirement already satisfied: frozenlist>=1.1.1 in /Users/aaron/Documents/code/Deep-Learning-AI/deeplearningai/lib/python3.9/site-packages (from aiohttp~=3.0->gradio==3.39.0) (1.7.0)\n",
      "Requirement already satisfied: multidict<7.0,>=4.5 in /Users/aaron/Documents/code/Deep-Learning-AI/deeplearningai/lib/python3.9/site-packages (from aiohttp~=3.0->gradio==3.39.0) (6.4.4)\n",
      "Requirement already satisfied: propcache>=0.2.0 in /Users/aaron/Documents/code/Deep-Learning-AI/deeplearningai/lib/python3.9/site-packages (from aiohttp~=3.0->gradio==3.39.0) (0.3.2)\n",
      "Requirement already satisfied: yarl<2.0,>=1.17.0 in /Users/aaron/Documents/code/Deep-Learning-AI/deeplearningai/lib/python3.9/site-packages (from aiohttp~=3.0->gradio==3.39.0) (1.20.1)\n",
      "Requirement already satisfied: jsonschema>=3.0 in /Users/aaron/Documents/code/Deep-Learning-AI/deeplearningai/lib/python3.9/site-packages (from altair<6.0,>=4.2.0->gradio==3.39.0) (4.24.0)\n",
      "Requirement already satisfied: narwhals>=1.14.2 in /Users/aaron/Documents/code/Deep-Learning-AI/deeplearningai/lib/python3.9/site-packages (from altair<6.0,>=4.2.0->gradio==3.39.0) (1.44.0)\n",
      "Requirement already satisfied: contourpy>=1.0.1 in /Users/aaron/Documents/code/Deep-Learning-AI/deeplearningai/lib/python3.9/site-packages (from matplotlib~=3.0->gradio==3.39.0) (1.3.0)\n",
      "Requirement already satisfied: cycler>=0.10 in /Users/aaron/Documents/code/Deep-Learning-AI/deeplearningai/lib/python3.9/site-packages (from matplotlib~=3.0->gradio==3.39.0) (0.12.1)\n",
      "Requirement already satisfied: fonttools>=4.22.0 in /Users/aaron/Documents/code/Deep-Learning-AI/deeplearningai/lib/python3.9/site-packages (from matplotlib~=3.0->gradio==3.39.0) (4.59.0)\n",
      "Requirement already satisfied: kiwisolver>=1.3.1 in /Users/aaron/Documents/code/Deep-Learning-AI/deeplearningai/lib/python3.9/site-packages (from matplotlib~=3.0->gradio==3.39.0) (1.4.7)\n",
      "Requirement already satisfied: pyparsing>=2.3.1 in /Users/aaron/Documents/code/Deep-Learning-AI/deeplearningai/lib/python3.9/site-packages (from matplotlib~=3.0->gradio==3.39.0) (3.2.3)\n",
      "Requirement already satisfied: python-dateutil>=2.7 in /Users/aaron/Documents/code/Deep-Learning-AI/deeplearningai/lib/python3.9/site-packages (from matplotlib~=3.0->gradio==3.39.0) (2.9.0.post0)\n",
      "Requirement already satisfied: importlib-resources>=3.2.0 in /Users/aaron/Documents/code/Deep-Learning-AI/deeplearningai/lib/python3.9/site-packages (from matplotlib~=3.0->gradio==3.39.0) (6.5.2)\n",
      "Collecting markdown-it-py>=2.0.0 (from markdown-it-py[linkify]>=2.0.0->gradio==3.39.0)\n",
      "  Downloading markdown_it_py-2.2.0-py3-none-any.whl.metadata (6.8 kB)\n",
      "Requirement already satisfied: mdurl~=0.1 in /Users/aaron/Documents/code/Deep-Learning-AI/deeplearningai/lib/python3.9/site-packages (from markdown-it-py>=2.0.0->markdown-it-py[linkify]>=2.0.0->gradio==3.39.0) (0.1.2)\n",
      "Requirement already satisfied: pytz>=2020.1 in /Users/aaron/Documents/code/Deep-Learning-AI/deeplearningai/lib/python3.9/site-packages (from pandas<3.0,>=1.0->gradio==3.39.0) (2025.2)\n",
      "Requirement already satisfied: tzdata>=2022.7 in /Users/aaron/Documents/code/Deep-Learning-AI/deeplearningai/lib/python3.9/site-packages (from pandas<3.0,>=1.0->gradio==3.39.0) (2025.2)\n",
      "Requirement already satisfied: annotated-types>=0.6.0 in /Users/aaron/Documents/code/Deep-Learning-AI/deeplearningai/lib/python3.9/site-packages (from pydantic!=1.8,!=1.8.1,!=2.0.0,!=2.0.1,<3.0.0,>=1.7.4->gradio==3.39.0) (0.7.0)\n",
      "Requirement already satisfied: pydantic-core==2.33.2 in /Users/aaron/Documents/code/Deep-Learning-AI/deeplearningai/lib/python3.9/site-packages (from pydantic!=1.8,!=1.8.1,!=2.0.0,!=2.0.1,<3.0.0,>=1.7.4->gradio==3.39.0) (2.33.2)\n",
      "Requirement already satisfied: typing-inspection>=0.4.0 in /Users/aaron/Documents/code/Deep-Learning-AI/deeplearningai/lib/python3.9/site-packages (from pydantic!=1.8,!=1.8.1,!=2.0.0,!=2.0.1,<3.0.0,>=1.7.4->gradio==3.39.0) (0.4.1)\n",
      "Requirement already satisfied: charset-normalizer<4,>=2 in /Users/aaron/Documents/code/Deep-Learning-AI/deeplearningai/lib/python3.9/site-packages (from requests~=2.0->gradio==3.39.0) (3.4.2)\n",
      "Requirement already satisfied: idna<4,>=2.5 in /Users/aaron/Documents/code/Deep-Learning-AI/deeplearningai/lib/python3.9/site-packages (from requests~=2.0->gradio==3.39.0) (3.10)\n",
      "Requirement already satisfied: urllib3<3,>=1.21.1 in /Users/aaron/Documents/code/Deep-Learning-AI/deeplearningai/lib/python3.9/site-packages (from requests~=2.0->gradio==3.39.0) (2.4.0)\n",
      "Requirement already satisfied: certifi>=2017.4.17 in /Users/aaron/Documents/code/Deep-Learning-AI/deeplearningai/lib/python3.9/site-packages (from requests~=2.0->gradio==3.39.0) (2025.4.26)\n",
      "Requirement already satisfied: fsspec in /Users/aaron/Documents/code/Deep-Learning-AI/deeplearningai/lib/python3.9/site-packages (from gradio-client>=0.3.0->gradio==3.39.0) (2025.5.1)\n",
      "Requirement already satisfied: anyio in /Users/aaron/Documents/code/Deep-Learning-AI/deeplearningai/lib/python3.9/site-packages (from httpx->gradio==3.39.0) (4.9.0)\n",
      "Requirement already satisfied: httpcore==1.* in /Users/aaron/Documents/code/Deep-Learning-AI/deeplearningai/lib/python3.9/site-packages (from httpx->gradio==3.39.0) (1.0.9)\n",
      "Requirement already satisfied: h11>=0.16 in /Users/aaron/Documents/code/Deep-Learning-AI/deeplearningai/lib/python3.9/site-packages (from httpcore==1.*->httpx->gradio==3.39.0) (0.16.0)\n",
      "Requirement already satisfied: filelock in /Users/aaron/Documents/code/Deep-Learning-AI/deeplearningai/lib/python3.9/site-packages (from huggingface-hub>=0.14.0->gradio==3.39.0) (3.18.0)\n",
      "Requirement already satisfied: tqdm>=4.42.1 in /Users/aaron/Documents/code/Deep-Learning-AI/deeplearningai/lib/python3.9/site-packages (from huggingface-hub>=0.14.0->gradio==3.39.0) (4.67.1)\n",
      "Requirement already satisfied: hf-xet<2.0.0,>=1.1.2 in /Users/aaron/Documents/code/Deep-Learning-AI/deeplearningai/lib/python3.9/site-packages (from huggingface-hub>=0.14.0->gradio==3.39.0) (1.1.5)\n",
      "Requirement already satisfied: zipp>=3.1.0 in /Users/aaron/Documents/code/Deep-Learning-AI/deeplearningai/lib/python3.9/site-packages (from importlib-resources>=3.2.0->matplotlib~=3.0->gradio==3.39.0) (3.23.0)\n",
      "Requirement already satisfied: jsonschema-specifications>=2023.03.6 in /Users/aaron/Documents/code/Deep-Learning-AI/deeplearningai/lib/python3.9/site-packages (from jsonschema>=3.0->altair<6.0,>=4.2.0->gradio==3.39.0) (2025.4.1)\n",
      "Requirement already satisfied: referencing>=0.28.4 in /Users/aaron/Documents/code/Deep-Learning-AI/deeplearningai/lib/python3.9/site-packages (from jsonschema>=3.0->altair<6.0,>=4.2.0->gradio==3.39.0) (0.36.2)\n",
      "Requirement already satisfied: rpds-py>=0.7.1 in /Users/aaron/Documents/code/Deep-Learning-AI/deeplearningai/lib/python3.9/site-packages (from jsonschema>=3.0->altair<6.0,>=4.2.0->gradio==3.39.0) (0.25.1)\n",
      "INFO: pip is looking at multiple versions of markdown-it-py[linkify] to determine which version is compatible with other requirements. This could take a while.\n",
      "Collecting linkify-it-py<3,>=1 (from markdown-it-py[linkify]>=2.0.0->gradio==3.39.0)\n",
      "  Downloading linkify_it_py-2.0.3-py3-none-any.whl.metadata (8.5 kB)\n",
      "Collecting uc-micro-py (from linkify-it-py<3,>=1->markdown-it-py[linkify]>=2.0.0->gradio==3.39.0)\n",
      "  Downloading uc_micro_py-1.0.3-py3-none-any.whl.metadata (2.0 kB)\n",
      "Requirement already satisfied: six>=1.5 in /Users/aaron/Documents/code/Deep-Learning-AI/deeplearningai/lib/python3.9/site-packages (from python-dateutil>=2.7->matplotlib~=3.0->gradio==3.39.0) (1.17.0)\n",
      "Requirement already satisfied: click>=7.0 in /Users/aaron/Documents/code/Deep-Learning-AI/deeplearningai/lib/python3.9/site-packages (from uvicorn>=0.14.0->gradio==3.39.0) (8.1.8)\n",
      "Requirement already satisfied: exceptiongroup>=1.0.2 in /Users/aaron/Documents/code/Deep-Learning-AI/deeplearningai/lib/python3.9/site-packages (from anyio->httpx->gradio==3.39.0) (1.3.0)\n",
      "Requirement already satisfied: sniffio>=1.1 in /Users/aaron/Documents/code/Deep-Learning-AI/deeplearningai/lib/python3.9/site-packages (from anyio->httpx->gradio==3.39.0) (1.3.1)\n",
      "Requirement already satisfied: starlette<0.48.0,>=0.40.0 in /Users/aaron/Documents/code/Deep-Learning-AI/deeplearningai/lib/python3.9/site-packages (from fastapi->gradio==3.39.0) (0.47.1)\n",
      "Downloading gradio-3.39.0-py3-none-any.whl (19.9 MB)\n",
      "\u001b[2K   \u001b[90m━━━━━━━━━━━━━━━━━━━━━━━━━━━━━━━━━━━━━━━━\u001b[0m \u001b[32m19.9/19.9 MB\u001b[0m \u001b[31m927.9 kB/s\u001b[0m eta \u001b[36m0:00:00\u001b[0m00:01\u001b[0m00:01\u001b[0m\n",
      "\u001b[?25hDownloading mdit_py_plugins-0.3.3-py3-none-any.whl (50 kB)\n",
      "Downloading markdown_it_py-2.2.0-py3-none-any.whl (84 kB)\n",
      "Using cached gradio_client-1.3.0-py3-none-any.whl (318 kB)\n",
      "Downloading linkify_it_py-2.0.3-py3-none-any.whl (19 kB)\n",
      "Downloading uc_micro_py-1.0.3-py3-none-any.whl (6.2 kB)\n",
      "Installing collected packages: uc-micro-py, markdown-it-py, mdit-py-plugins, linkify-it-py, gradio-client, gradio\n",
      "\u001b[2K  Attempting uninstall: markdown-it-py\n",
      "\u001b[2K    Found existing installation: markdown-it-py 3.0.0\n",
      "\u001b[2K    Uninstalling markdown-it-py-3.0.0:\n",
      "\u001b[2K      Successfully uninstalled markdown-it-py-3.0.0\n",
      "\u001b[2K   \u001b[90m━━━━━━━━━━━━━━━━━━━━━━━━━━━━━━━━━━━━━━━━\u001b[0m \u001b[32m6/6\u001b[0m [gradio]2m5/6\u001b[0m [gradio]\n",
      "\u001b[1A\u001b[2KSuccessfully installed gradio-3.39.0 gradio-client-1.3.0 linkify-it-py-2.0.3 markdown-it-py-2.2.0 mdit-py-plugins-0.3.3 uc-micro-py-1.0.3\n"
     ]
    }
   ],
   "source": [
    "!pip install gradio==3.39.0"
   ]
  },
  {
   "cell_type": "code",
   "execution_count": 4,
   "id": "f7b87bfd-ee5f-4e5b-9ba3-74532f222229",
   "metadata": {},
   "outputs": [
    {
     "name": "stdout",
     "output_type": "stream",
     "text": [
      "Running on local URL:  http://127.0.0.1:7861\n",
      "IMPORTANT: You are using gradio version 3.39.0, however version 4.44.1 is available, please upgrade.\n",
      "--------\n",
      "Running on public URL: https://29c4e56dd2e4618844.gradio.live\n",
      "\n",
      "This share link expires in 72 hours. For free permanent hosting and GPU upgrades, run `gradio deploy` from Terminal to deploy to Spaces (https://huggingface.co/spaces)\n"
     ]
    },
    {
     "data": {
      "text/html": [
       "<div><iframe src=\"https://29c4e56dd2e4618844.gradio.live\" width=\"100%\" height=\"500\" allow=\"autoplay; camera; microphone; clipboard-read; clipboard-write;\" frameborder=\"0\" allowfullscreen></iframe></div>"
      ],
      "text/plain": [
       "<IPython.core.display.HTML object>"
      ]
     },
     "metadata": {},
     "output_type": "display_data"
    },
    {
     "data": {
      "text/plain": []
     },
     "execution_count": 4,
     "metadata": {},
     "output_type": "execute_result"
    }
   ],
   "source": [
    "import gradio as gr\n",
    "import os\n",
    "import shutil\n",
    "\n",
    "# Ensure PDFs directory exists\n",
    "os.makedirs(\"./PDFs\", exist_ok=True)\n",
    "\n",
    "# -------- Document Upload Logic --------\n",
    "def upload_docs(files):\n",
    "    saved_files = []\n",
    "    for file in files:\n",
    "        dest_path = os.path.join(\"./PDFs\", file.name)\n",
    "        shutil.copy(file.name, dest_path)\n",
    "        saved_files.append(dest_path)\n",
    "    return f\"Uploaded {len(saved_files)} file(s) to ./PDFs\"\n",
    "\n",
    "# -------- Dummy RAG Logic --------\n",
    "def rag_app(input_text):\n",
    "    # placeholder for actual RAG response\n",
    "    return f\"You asked: '{input_text}' — this is a dummy response.\"\n",
    "\n",
    "# -------- Gradio Interface --------\n",
    "with gr.Blocks() as demo:\n",
    "    with gr.Tab(\"📄 Upload Document\"):\n",
    "        file_input = gr.File(file_types=[\".pdf\"], file_count=\"multiple\", label=\"Upload your PDFs\")\n",
    "        upload_button = gr.Button(\"Upload\")\n",
    "        upload_output = gr.Textbox(label=\"Upload Status\")\n",
    "\n",
    "        upload_button.click(fn=upload_docs, inputs=file_input, outputs=upload_output)\n",
    "\n",
    "    with gr.Tab(\"💬 Ask Your PDF\"):\n",
    "        query_input = gr.Textbox(label=\"Ask something...\")\n",
    "        query_button = gr.Button(\"Ask\")\n",
    "        response_output = gr.Textbox(label=\"Response\")\n",
    "\n",
    "        query_button.click(fn=rag_app, inputs=query_input, outputs=response_output)\n",
    "\n",
    "demo.launch(share=True)"
   ]
  },
  {
   "cell_type": "code",
   "execution_count": null,
   "id": "3a1731f1-4ee2-47d1-beb2-6719acec4a4a",
   "metadata": {},
   "outputs": [],
   "source": []
  }
 ],
 "metadata": {
  "kernelspec": {
   "display_name": "Python 3 (ipykernel)",
   "language": "python",
   "name": "python3"
  },
  "language_info": {
   "codemirror_mode": {
    "name": "ipython",
    "version": 3
   },
   "file_extension": ".py",
   "mimetype": "text/x-python",
   "name": "python",
   "nbconvert_exporter": "python",
   "pygments_lexer": "ipython3",
   "version": "3.9.6"
  }
 },
 "nbformat": 4,
 "nbformat_minor": 5
}
