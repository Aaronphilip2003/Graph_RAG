{
 "cells": [
  {
   "cell_type": "code",
   "execution_count": 2,
   "id": "34e8845e-a3ca-498f-9231-d2a3aa838d77",
   "metadata": {},
   "outputs": [
    {
     "name": "stderr",
     "output_type": "stream",
     "text": [
      "164.62s - pydevd: Sending message related to process being replaced timed-out after 5 seconds\n"
     ]
    },
    {
     "name": "stdout",
     "output_type": "stream",
     "text": [
      "Requirement already satisfied: pymupdf in /Users/aaron/Documents/code/Deep-Learning-AI/deeplearningai/lib/python3.9/site-packages (1.26.3)\n"
     ]
    }
   ],
   "source": [
    "!pip install pymupdf"
   ]
  },
  {
   "cell_type": "code",
   "execution_count": 4,
   "id": "57c5f429-6da8-4a8c-880e-6a38dfb468a1",
   "metadata": {},
   "outputs": [
    {
     "name": "stderr",
     "output_type": "stream",
     "text": [
      "406.78s - pydevd: Sending message related to process being replaced timed-out after 5 seconds\n"
     ]
    },
    {
     "name": "stdout",
     "output_type": "stream",
     "text": [
      "Collecting pymongo\n",
      "  Downloading pymongo-4.13.2-cp39-cp39-macosx_11_0_arm64.whl.metadata (22 kB)\n",
      "Collecting dnspython<3.0.0,>=1.16.0 (from pymongo)\n",
      "  Downloading dnspython-2.7.0-py3-none-any.whl.metadata (5.8 kB)\n",
      "Downloading pymongo-4.13.2-cp39-cp39-macosx_11_0_arm64.whl (748 kB)\n",
      "\u001b[2K   \u001b[90m━━━━━━━━━━━━━━━━━━━━━━━━━━━━━━━━━━━━━━━━\u001b[0m \u001b[32m748.7/748.7 kB\u001b[0m \u001b[31m14.3 MB/s\u001b[0m eta \u001b[36m0:00:00\u001b[0m\n",
      "\u001b[?25hDownloading dnspython-2.7.0-py3-none-any.whl (313 kB)\n",
      "Installing collected packages: dnspython, pymongo\n",
      "\u001b[2K   \u001b[90m━━━━━━━━━━━━━━━━━━━━━━━━━━━━━━━━━━━━━━━━\u001b[0m \u001b[32m2/2\u001b[0m [pymongo]m1/2\u001b[0m [pymongo]\n",
      "\u001b[1A\u001b[2KSuccessfully installed dnspython-2.7.0 pymongo-4.13.2\n"
     ]
    }
   ],
   "source": [
    "!pip install pymongo"
   ]
  },
  {
   "cell_type": "code",
   "execution_count": 8,
   "id": "408874b4-02ce-48f6-9c81-b802c65e19f6",
   "metadata": {},
   "outputs": [],
   "source": [
    "import fitz  # PyMuPDF\n",
    "import os\n",
    "import json\n",
    "from pprint import pprint"
   ]
  },
  {
   "cell_type": "code",
   "execution_count": 9,
   "id": "d57d188c-50b4-406f-a62f-5a3a3360358b",
   "metadata": {},
   "outputs": [
    {
     "name": "stdout",
     "output_type": "stream",
     "text": [
      "Found 2 PDF(s):\n",
      "['metformin2.pdf', 'metformin1.pdf']\n"
     ]
    }
   ],
   "source": [
    "DATA_DIR = \"./PDFs\"\n",
    "\n",
    "pdf_files = [f for f in os.listdir(DATA_DIR) if f.endswith(\".pdf\")]\n",
    "print(f\"Found {len(pdf_files)} PDF(s):\")\n",
    "pprint(pdf_files)"
   ]
  },
  {
   "cell_type": "code",
   "execution_count": 10,
   "id": "ea96fb24-44d0-4290-a9e7-77be68762bb7",
   "metadata": {},
   "outputs": [],
   "source": [
    "def extract_text_from_pdf(file_path):\n",
    "    doc = fitz.open(file_path)\n",
    "    pages = []\n",
    "    for page_number in range(len(doc)):\n",
    "        page = doc.load_page(page_number)\n",
    "        text = page.get_text().strip()\n",
    "        pages.append({\n",
    "            \"page_number\": page_number + 1,\n",
    "            \"text\": text\n",
    "        })\n",
    "    doc.close()\n",
    "    return pages"
   ]
  },
  {
   "cell_type": "code",
   "execution_count": 11,
   "id": "5aea51c6-c0a5-4043-8807-eb846ab6ddf7",
   "metadata": {},
   "outputs": [
    {
     "name": "stdout",
     "output_type": "stream",
     "text": [
      "🔍 Extracting: metformin2.pdf\n",
      "🔍 Extracting: metformin1.pdf\n",
      "✅ Extraction complete.\n"
     ]
    }
   ],
   "source": [
    "# Dictionary to hold page-wise text for each PDF\n",
    "pdf_page_texts = {}\n",
    "\n",
    "for pdf_file in pdf_files:\n",
    "    full_path = os.path.join(DATA_DIR, pdf_file)\n",
    "    print(f\"🔍 Extracting: {pdf_file}\")\n",
    "    pages = extract_text_from_pdf(full_path)\n",
    "    pdf_page_texts[pdf_file] = pages\n",
    "\n",
    "print(\"✅ Extraction complete.\")"
   ]
  },
  {
   "cell_type": "code",
   "execution_count": 20,
   "id": "14706c72-3720-4840-9927-ae13a0dd8ebb",
   "metadata": {},
   "outputs": [
    {
     "name": "stdout",
     "output_type": "stream",
     "text": [
      "[{'page_number': 1,\n",
      "  'text': 'PRODUCT  MONOGRAPH \\n'\n",
      "          ' \\n'\n",
      "          ' \\n'\n",
      "          ' \\n'\n",
      "          ' \\n'\n",
      "          'PrTEVA-METFORMIN \\n'\n",
      "          '(metformin hydrochloride) \\n'\n",
      "          ' \\n'\n",
      "          '500 mg and 850 mg Tablets \\n'\n",
      "          ' \\n'\n",
      "          'Teva Standard \\n'\n",
      "          ' \\n'\n",
      "          ' \\n'\n",
      "          'Oral Antihyperglycemic Agent \\n'\n",
      "          ' \\n'\n",
      "          ' \\n'\n",
      "          ' \\n'\n",
      "          ' \\n'\n",
      "          'Teva Canada Limited  \\n'\n",
      "          ' \\n'\n",
      "          ' \\n'\n",
      "          '                              Date of Preparation: July 25, 2013 \\n'\n",
      "          '30 Novopharm Court  \\n'\n",
      "          ' \\n'\n",
      "          ' \\n'\n",
      "          ' \\n'\n",
      "          ' \\n'\n",
      "          ' \\n'\n",
      "          'Toronto, Ontario \\n'\n",
      "          ' \\n'\n",
      "          'Canada M1B 2K9 \\n'\n",
      "          'www.tevacanada.com  \\n'\n",
      "          ' \\n'\n",
      "          'Control Number: 165821'}]\n"
     ]
    }
   ],
   "source": [
    "# Show the first 2 pages of the first PDF\n",
    "sample_pdf = pdf_files[0]\n",
    "pprint(pdf_page_texts[sample_pdf][:1])"
   ]
  },
  {
   "cell_type": "code",
   "execution_count": 27,
   "id": "b9a23fd0-e967-4c40-ae74-d5c2c7070f55",
   "metadata": {},
   "outputs": [
    {
     "name": "stdout",
     "output_type": "stream",
     "text": [
      "✅ Successfully connected to MongoDB.\n"
     ]
    }
   ],
   "source": [
    "%run ./utils.ipynb"
   ]
  },
  {
   "cell_type": "code",
   "execution_count": 28,
   "id": "b01b6708-0398-4cac-b12d-2c53068d8ef4",
   "metadata": {},
   "outputs": [],
   "source": [
    "client = get_mongo_client(uri)\n",
    "collection = get_collection(client, \"pdf_rag_db\", \"pages\")"
   ]
  },
  {
   "cell_type": "code",
   "execution_count": 29,
   "id": "b0028256-12ff-467c-98a0-cc0979b91e25",
   "metadata": {},
   "outputs": [
    {
     "name": "stdout",
     "output_type": "stream",
     "text": [
      "📤 Inserting pages from: metformin2.pdf\n",
      "✅ Inserted 31 pages from 'metformin2.pdf' into MongoDB.\n",
      "📤 Inserting pages from: metformin1.pdf\n",
      "✅ Inserted 35 pages from 'metformin1.pdf' into MongoDB.\n",
      "✅ All PDFs inserted into MongoDB.\n"
     ]
    }
   ],
   "source": [
    "for pdf_name, pages in pdf_page_texts.items():\n",
    "    print(f\"📤 Inserting pages from: {pdf_name}\")\n",
    "    insert_pdf_pages_to_mongo(collection, pdf_name, pages)\n",
    "\n",
    "print(\"✅ All PDFs inserted into MongoDB.\")"
   ]
  }
 ],
 "metadata": {
  "kernelspec": {
   "display_name": "Python 3 (ipykernel)",
   "language": "python",
   "name": "python3"
  },
  "language_info": {
   "codemirror_mode": {
    "name": "ipython",
    "version": 3
   },
   "file_extension": ".py",
   "mimetype": "text/x-python",
   "name": "python",
   "nbconvert_exporter": "python",
   "pygments_lexer": "ipython3",
   "version": "3.9.6"
  }
 },
 "nbformat": 4,
 "nbformat_minor": 5
}
